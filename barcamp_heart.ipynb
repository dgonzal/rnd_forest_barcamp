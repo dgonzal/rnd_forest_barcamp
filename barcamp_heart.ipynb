{
 "cells": [
  {
   "cell_type": "markdown",
   "id": "99bd7975-2a89-4b6f-9122-ca3adea5a7dc",
   "metadata": {},
   "source": [
    "# Heart failure prediction \n",
    "In this notebook you will be looking into the heart disease dataset presented here: <br>\n",
    "https://www.kaggle.com/fedesoriano/heart-failure-prediction <br>\n",
    "<br>\n",
    "There are a lot of code snippets for you available. Pls be aware that some of the snippets need your attention to be completed (encoding). \n",
    "Additionally I added some questions that should help you explore the dataset. All these questions can be answered with the functions presented in the iris example. Feel free to explore the data beyond these questions. Pandas is widely used library, such that there is lot of information on additional functions e. g. on https://pandas.pydata.org/ or stackoverflow. The same is also true for sklearn. \n",
    "\n",
    "Questions:\n",
    "1. What is the overall prevalence for heart disease? Compare it to the sample\n",
    "2. What is the ratio of sexes in the sample?\n",
    "3. How does the cholesterol level compare to the average population?\n",
    "4. How often do exercise induced anginas occure in the sample?\n",
    "5. How do the distributions for all variables look like?\n",
    "6. Look at the correlation between age (cholosterol/blood pressure/heart rate) and and heart disease\n",
    "7. Plot the histograms for all variables for female and male -> What are the difference?\n",
    "8. Plot the histograms for all variables in three different age brackets -> What are the difference\n",
    "\n",
    "At the end we would like to use a random forest model to predict the heart disease. Look at the confusion matrix for various hyperparameters. Could you imagine what implications could be on the choice of hyperparameters?"
   ]
  },
  {
   "cell_type": "code",
   "execution_count": 1,
   "id": "211d6649-e689-442f-933c-0130b6a6dc76",
   "metadata": {},
   "outputs": [
    {
     "name": "stdout",
     "output_type": "stream",
     "text": [
      "Requirement already satisfied: pip in ./env/lib/python3.9/site-packages (21.3)\n",
      "Requirement already satisfied: pandas in ./env/lib/python3.9/site-packages (1.3.3)\n",
      "Requirement already satisfied: python-dateutil>=2.7.3 in ./env/lib/python3.9/site-packages (from pandas) (2.8.2)\n",
      "Requirement already satisfied: pytz>=2017.3 in ./env/lib/python3.9/site-packages (from pandas) (2021.3)\n",
      "Requirement already satisfied: numpy>=1.17.3 in ./env/lib/python3.9/site-packages (from pandas) (1.21.2)\n",
      "Requirement already satisfied: six>=1.5 in ./env/lib/python3.9/site-packages (from python-dateutil>=2.7.3->pandas) (1.16.0)\n",
      "Requirement already satisfied: scikit-learn in ./env/lib/python3.9/site-packages (1.0)\n",
      "Requirement already satisfied: numpy>=1.14.6 in ./env/lib/python3.9/site-packages (from scikit-learn) (1.21.2)\n",
      "Requirement already satisfied: threadpoolctl>=2.0.0 in ./env/lib/python3.9/site-packages (from scikit-learn) (3.0.0)\n",
      "Requirement already satisfied: joblib>=0.11 in ./env/lib/python3.9/site-packages (from scikit-learn) (1.1.0)\n",
      "Requirement already satisfied: scipy>=1.1.0 in ./env/lib/python3.9/site-packages (from scikit-learn) (1.7.1)\n"
     ]
    }
   ],
   "source": [
    "!pip install --upgrade pip\n",
    "!pip install pandas\n",
    "!pip install scikit-learn"
   ]
  },
  {
   "cell_type": "code",
   "execution_count": 6,
   "id": "31341391-a0f1-4e64-a182-569de1422a7c",
   "metadata": {},
   "outputs": [],
   "source": [
    "import pandas as pd\n",
    "import matplotlib.pyplot as plt \n",
    "from sklearn import preprocessing\n",
    "\n",
    "plt.rcParams['figure.figsize'] = [15, 10]\n",
    "pd.set_option('display.max_rows', None)"
   ]
  },
  {
   "cell_type": "code",
   "execution_count": 39,
   "id": "e652ce59-91f0-4706-8428-b927757e17de",
   "metadata": {},
   "outputs": [],
   "source": [
    "from IPython.display import Image\n",
    "from IPython.display import display"
   ]
  },
  {
   "cell_type": "code",
   "execution_count": 3,
   "id": "2fdeca4a-2a14-4169-8dc7-3957c019283e",
   "metadata": {},
   "outputs": [],
   "source": [
    "df = pd.read_csv('data/heart.csv')"
   ]
  },
  {
   "cell_type": "code",
   "execution_count": 4,
   "id": "d75ded18-af0c-4345-abc5-a00925e2e0e4",
   "metadata": {},
   "outputs": [
    {
     "name": "stdout",
     "output_type": "stream",
     "text": [
      "<class 'pandas.core.frame.DataFrame'>\n",
      "RangeIndex: 918 entries, 0 to 917\n",
      "Data columns (total 12 columns):\n",
      " #   Column          Non-Null Count  Dtype  \n",
      "---  ------          --------------  -----  \n",
      " 0   Age             918 non-null    int64  \n",
      " 1   Sex             918 non-null    object \n",
      " 2   ChestPainType   918 non-null    object \n",
      " 3   RestingBP       918 non-null    int64  \n",
      " 4   Cholesterol     918 non-null    int64  \n",
      " 5   FastingBS       918 non-null    int64  \n",
      " 6   RestingECG      918 non-null    object \n",
      " 7   MaxHR           918 non-null    int64  \n",
      " 8   ExerciseAngina  918 non-null    object \n",
      " 9   Oldpeak         918 non-null    float64\n",
      " 10  ST_Slope        918 non-null    object \n",
      " 11  HeartDisease    918 non-null    int64  \n",
      "dtypes: float64(1), int64(6), object(5)\n",
      "memory usage: 86.2+ KB\n"
     ]
    }
   ],
   "source": [
    "df.info()"
   ]
  },
  {
   "cell_type": "code",
   "execution_count": 5,
   "id": "9504eaec-7b17-47a9-9aac-cc7b7e0d2173",
   "metadata": {},
   "outputs": [
    {
     "data": {
      "text/html": [
       "<div>\n",
       "<style scoped>\n",
       "    .dataframe tbody tr th:only-of-type {\n",
       "        vertical-align: middle;\n",
       "    }\n",
       "\n",
       "    .dataframe tbody tr th {\n",
       "        vertical-align: top;\n",
       "    }\n",
       "\n",
       "    .dataframe thead th {\n",
       "        text-align: right;\n",
       "    }\n",
       "</style>\n",
       "<table border=\"1\" class=\"dataframe\">\n",
       "  <thead>\n",
       "    <tr style=\"text-align: right;\">\n",
       "      <th></th>\n",
       "      <th>Age</th>\n",
       "      <th>Sex</th>\n",
       "      <th>ChestPainType</th>\n",
       "      <th>RestingBP</th>\n",
       "      <th>Cholesterol</th>\n",
       "      <th>FastingBS</th>\n",
       "      <th>RestingECG</th>\n",
       "      <th>MaxHR</th>\n",
       "      <th>ExerciseAngina</th>\n",
       "      <th>Oldpeak</th>\n",
       "      <th>ST_Slope</th>\n",
       "      <th>HeartDisease</th>\n",
       "    </tr>\n",
       "  </thead>\n",
       "  <tbody>\n",
       "    <tr>\n",
       "      <th>0</th>\n",
       "      <td>40</td>\n",
       "      <td>M</td>\n",
       "      <td>ATA</td>\n",
       "      <td>140</td>\n",
       "      <td>289</td>\n",
       "      <td>0</td>\n",
       "      <td>Normal</td>\n",
       "      <td>172</td>\n",
       "      <td>N</td>\n",
       "      <td>0.0</td>\n",
       "      <td>Up</td>\n",
       "      <td>0</td>\n",
       "    </tr>\n",
       "    <tr>\n",
       "      <th>1</th>\n",
       "      <td>49</td>\n",
       "      <td>F</td>\n",
       "      <td>NAP</td>\n",
       "      <td>160</td>\n",
       "      <td>180</td>\n",
       "      <td>0</td>\n",
       "      <td>Normal</td>\n",
       "      <td>156</td>\n",
       "      <td>N</td>\n",
       "      <td>1.0</td>\n",
       "      <td>Flat</td>\n",
       "      <td>1</td>\n",
       "    </tr>\n",
       "    <tr>\n",
       "      <th>2</th>\n",
       "      <td>37</td>\n",
       "      <td>M</td>\n",
       "      <td>ATA</td>\n",
       "      <td>130</td>\n",
       "      <td>283</td>\n",
       "      <td>0</td>\n",
       "      <td>ST</td>\n",
       "      <td>98</td>\n",
       "      <td>N</td>\n",
       "      <td>0.0</td>\n",
       "      <td>Up</td>\n",
       "      <td>0</td>\n",
       "    </tr>\n",
       "    <tr>\n",
       "      <th>3</th>\n",
       "      <td>48</td>\n",
       "      <td>F</td>\n",
       "      <td>ASY</td>\n",
       "      <td>138</td>\n",
       "      <td>214</td>\n",
       "      <td>0</td>\n",
       "      <td>Normal</td>\n",
       "      <td>108</td>\n",
       "      <td>Y</td>\n",
       "      <td>1.5</td>\n",
       "      <td>Flat</td>\n",
       "      <td>1</td>\n",
       "    </tr>\n",
       "    <tr>\n",
       "      <th>4</th>\n",
       "      <td>54</td>\n",
       "      <td>M</td>\n",
       "      <td>NAP</td>\n",
       "      <td>150</td>\n",
       "      <td>195</td>\n",
       "      <td>0</td>\n",
       "      <td>Normal</td>\n",
       "      <td>122</td>\n",
       "      <td>N</td>\n",
       "      <td>0.0</td>\n",
       "      <td>Up</td>\n",
       "      <td>0</td>\n",
       "    </tr>\n",
       "  </tbody>\n",
       "</table>\n",
       "</div>"
      ],
      "text/plain": [
       "   Age Sex ChestPainType  RestingBP  Cholesterol  FastingBS RestingECG  MaxHR  \\\n",
       "0   40   M           ATA        140          289          0     Normal    172   \n",
       "1   49   F           NAP        160          180          0     Normal    156   \n",
       "2   37   M           ATA        130          283          0         ST     98   \n",
       "3   48   F           ASY        138          214          0     Normal    108   \n",
       "4   54   M           NAP        150          195          0     Normal    122   \n",
       "\n",
       "  ExerciseAngina  Oldpeak ST_Slope  HeartDisease  \n",
       "0              N      0.0       Up             0  \n",
       "1              N      1.0     Flat             1  \n",
       "2              N      0.0       Up             0  \n",
       "3              Y      1.5     Flat             1  \n",
       "4              N      0.0       Up             0  "
      ]
     },
     "execution_count": 5,
     "metadata": {},
     "output_type": "execute_result"
    }
   ],
   "source": [
    "df.head()"
   ]
  },
  {
   "cell_type": "code",
   "execution_count": 19,
   "id": "de8d22da-7b49-4812-b7d2-57af39b567a8",
   "metadata": {},
   "outputs": [
    {
     "data": {
      "text/plain": [
       "Index(['Age', 'Sex', 'ChestPainType', 'RestingBP', 'Cholesterol', 'FastingBS',\n",
       "       'RestingECG', 'MaxHR', 'ExerciseAngina', 'Oldpeak', 'ST_Slope',\n",
       "       'HeartDisease', 'sex_encoded', 'painType_encoded', 'ecg_encoded',\n",
       "       'hr_encoded', 'slope_encoded', 'exAngina_encoded'],\n",
       "      dtype='object')"
      ]
     },
     "execution_count": 19,
     "metadata": {},
     "output_type": "execute_result"
    }
   ],
   "source": [
    "# get column names\n",
    "df.columns"
   ]
  },
  {
   "cell_type": "code",
   "execution_count": 13,
   "id": "ab5c27c4-f216-4547-aeb1-f7b0d5cf755a",
   "metadata": {},
   "outputs": [
    {
     "data": {
      "text/plain": [
       "array(['Normal', 'ST', 'LVH'], dtype=object)"
      ]
     },
     "execution_count": 13,
     "metadata": {},
     "output_type": "execute_result"
    }
   ],
   "source": [
    "# get all unique values in the selected column\n",
    "df['RestingECG'].unique()"
   ]
  },
  {
   "cell_type": "code",
   "execution_count": 92,
   "id": "a3856b1a-414a-453c-abc4-7526e0c3e949",
   "metadata": {},
   "outputs": [
    {
     "name": "stdout",
     "output_type": "stream",
     "text": [
      "{'F': 0, 'M': 1}\n",
      "{'ASY': 0, 'ATA': 1, 'NAP': 2, 'TA': 3}\n",
      "{'LVH': 0, 'Normal': 1, 'ST': 2}\n"
     ]
    }
   ],
   "source": [
    "#integer encoding\n",
    "le = preprocessing.LabelEncoder()\n",
    "df['sex_encoded'] = le.fit_transform(df['Sex'].values)\n",
    "print(dict(zip(le.classes_, le.transform(le.classes_))))\n",
    "df['painType_encoded'] = le.fit_transform(df['ChestPainType'].values)\n",
    "print(dict(zip(le.classes_, le.transform(le.classes_))))\n",
    "df['ecg_encoded'] = le.fit_transform(df['RestingECG'].values)\n",
    "print(dict(zip(le.classes_, le.transform(le.classes_))))\n",
    "# ExerciseAngina is still missing pls also transform it\n",
    "# ST_Slope is still missing pls also transform it"
   ]
  },
  {
   "cell_type": "code",
   "execution_count": 93,
   "id": "1fa13378-6fe7-4cc7-a177-8cbd008f43aa",
   "metadata": {},
   "outputs": [
    {
     "data": {
      "text/plain": [
       "array([[<AxesSubplot:title={'center':'Age'}>,\n",
       "        <AxesSubplot:title={'center':'RestingBP'}>,\n",
       "        <AxesSubplot:title={'center':'Cholesterol'}>,\n",
       "        <AxesSubplot:title={'center':'FastingBS'}>],\n",
       "       [<AxesSubplot:title={'center':'MaxHR'}>,\n",
       "        <AxesSubplot:title={'center':'Oldpeak'}>,\n",
       "        <AxesSubplot:title={'center':'HeartDisease'}>,\n",
       "        <AxesSubplot:title={'center':'sex_encoded'}>],\n",
       "       [<AxesSubplot:title={'center':'painType_encoded'}>,\n",
       "        <AxesSubplot:title={'center':'ecg_encoded'}>,\n",
       "        <AxesSubplot:title={'center':'hr_encoded'}>,\n",
       "        <AxesSubplot:title={'center':'slope_encoded'}>],\n",
       "       [<AxesSubplot:title={'center':'exAngina_encoded'}>,\n",
       "        <AxesSubplot:>, <AxesSubplot:>, <AxesSubplot:>]], dtype=object)"
      ]
     },
     "execution_count": 93,
     "metadata": {},
     "output_type": "execute_result"
    },
    {
     "data": {
      "image/png": "[encoded data removed]",
      "text/plain": [
       "<Figure size 1080x720 with 16 Axes>"
      ]
     },
     "metadata": {
      "needs_background": "light"
     },
     "output_type": "display_data"
    }
   ],
   "source": [
    "df.hist(bins=20)"
   ]
  },
  {
   "cell_type": "code",
   "execution_count": 51,
   "id": "6163b9f1-31b2-46c5-9de5-6d99dc94ec62",
   "metadata": {},
   "outputs": [
    {
     "data": {
      "text/plain": [
       "<AxesSubplot:title={'center':'Age'}, xlabel='RestingECG'>"
      ]
     },
     "execution_count": 51,
     "metadata": {},
     "output_type": "execute_result"
    },
    {
     "data": {
      "image/png": "[encoded data removed]",
      "text/plain": [
       "<Figure size 1080x720 with 1 Axes>"
      ]
     },
     "metadata": {
      "needs_background": "light"
     },
     "output_type": "display_data"
    }
   ],
   "source": [
    "df.boxplot(column=['Age'], by='RestingECG') #, 'RestingBP', 'Cholesterol', 'MaxHR'])"
   ]
  },
  {
   "cell_type": "code",
   "execution_count": 90,
   "id": "0624ea23-5177-4ea9-960f-7f7cbdd18b12",
   "metadata": {},
   "outputs": [],
   "source": [
    "male = df[df['Sex']=='M']"
   ]
  },
  {
   "cell_type": "code",
   "execution_count": 91,
   "id": "b418ad62-0f57-4f58-9cd5-51e3f2af17a0",
   "metadata": {},
   "outputs": [],
   "source": [
    "younger = df[df['Age'] < 45]"
   ]
  },
  {
   "cell_type": "markdown",
   "id": "9e7791de-f932-4814-97ca-8850a95cc21b",
   "metadata": {},
   "source": [
    "## Random Forest "
   ]
  },
  {
   "cell_type": "code",
   "execution_count": 75,
   "id": "84e76677-3037-4d7d-84bb-7ae0f7e20ec8",
   "metadata": {},
   "outputs": [],
   "source": [
    "from sklearn.ensemble import RandomForestClassifier\n",
    "from sklearn.metrics import confusion_matrix"
   ]
  },
  {
   "cell_type": "code",
   "execution_count": 87,
   "id": "b6be2d3c-7f02-4d55-9b5b-73afbd320826",
   "metadata": {},
   "outputs": [],
   "source": [
    "rnd_classifier = RandomForestClassifier(n_estimators=10, criterion='gini', \n",
    "                                        max_depth=None, max_features='auto', max_leaf_nodes=None, \n",
    "                                        min_impurity_decrease=0.0, bootstrap=True, \n",
    "                                        n_jobs=None, random_state=None, verbose=0)\n"
   ]
  },
  {
   "cell_type": "code",
   "execution_count": 65,
   "id": "4e77d6d8-6d7b-4c8a-8d7e-5c528208df84",
   "metadata": {},
   "outputs": [
    {
     "data": {
      "text/plain": [
       "Index(['Age', 'Sex', 'ChestPainType', 'RestingBP', 'Cholesterol', 'FastingBS',\n",
       "       'RestingECG', 'MaxHR', 'ExerciseAngina', 'Oldpeak', 'ST_Slope',\n",
       "       'HeartDisease', 'sex_encoded', 'painType_encoded', 'ecg_encoded',\n",
       "       'hr_encoded', 'slope_encoded', 'exAngina_encoded'],\n",
       "      dtype='object')"
      ]
     },
     "execution_count": 65,
     "metadata": {},
     "output_type": "execute_result"
    }
   ],
   "source": [
    "df.columns"
   ]
  },
  {
   "cell_type": "markdown",
   "id": "d13980bc-9582-4c4e-b203-e6d735fd51f5",
   "metadata": {},
   "source": [
    "# Don't train and test with the same data!\n",
    "We will hopefully discuss in short with some handwaving arguments why to train and test on the same dataset is a bad ide"
   ]
  }
 ],
 "metadata": {
  "kernelspec": {
   "display_name": "Python 3 (ipykernel)",
   "language": "python",
   "name": "python3"
  },
  "language_info": {
   "codemirror_mode": {
    "name": "ipython",
    "version": 3
   },
   "file_extension": ".py",
   "mimetype": "text/x-python",
   "name": "python",
   "nbconvert_exporter": "python",
   "pygments_lexer": "ipython3",
   "version": "3.9.7"
  }
 },
 "nbformat": 4,
 "nbformat_minor": 5
}
